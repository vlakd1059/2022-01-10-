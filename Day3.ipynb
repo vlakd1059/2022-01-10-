{
 "cells": [
  {
   "cell_type": "markdown",
   "id": "922ec8f0",
   "metadata": {},
   "source": [
    "### Selenium 라이브러리\n",
    "-웹페이지를 자동으로 제어하는 라이브러리"
   ]
  },
  {
   "cell_type": "code",
   "execution_count": 63,
   "id": "28fb1921",
   "metadata": {},
   "outputs": [
    {
     "name": "stdout",
     "output_type": "stream",
     "text": [
      "Requirement already satisfied: selenium in c:\\users\\smhrd\\anaconda3\\lib\\site-packages (4.1.0)\n",
      "Requirement already satisfied: urllib3[secure]~=1.26 in c:\\users\\smhrd\\anaconda3\\lib\\site-packages (from selenium) (1.26.7)\n",
      "Requirement already satisfied: trio~=0.17 in c:\\users\\smhrd\\anaconda3\\lib\\site-packages (from selenium) (0.19.0)\n",
      "Requirement already satisfied: trio-websocket~=0.9 in c:\\users\\smhrd\\anaconda3\\lib\\site-packages (from selenium) (0.9.2)\n",
      "Requirement already satisfied: cffi>=1.14 in c:\\users\\smhrd\\anaconda3\\lib\\site-packages (from trio~=0.17->selenium) (1.14.6)\n",
      "Requirement already satisfied: sortedcontainers in c:\\users\\smhrd\\anaconda3\\lib\\site-packages (from trio~=0.17->selenium) (2.4.0)\n",
      "Requirement already satisfied: async-generator>=1.9 in c:\\users\\smhrd\\anaconda3\\lib\\site-packages (from trio~=0.17->selenium) (1.10)\n",
      "Requirement already satisfied: idna in c:\\users\\smhrd\\anaconda3\\lib\\site-packages (from trio~=0.17->selenium) (3.2)\n",
      "Requirement already satisfied: sniffio in c:\\users\\smhrd\\anaconda3\\lib\\site-packages (from trio~=0.17->selenium) (1.2.0)\n",
      "Requirement already satisfied: attrs>=19.2.0 in c:\\users\\smhrd\\anaconda3\\lib\\site-packages (from trio~=0.17->selenium) (21.2.0)\n",
      "Requirement already satisfied: outcome in c:\\users\\smhrd\\anaconda3\\lib\\site-packages (from trio~=0.17->selenium) (1.1.0)\n",
      "Requirement already satisfied: pycparser in c:\\users\\smhrd\\anaconda3\\lib\\site-packages (from cffi>=1.14->trio~=0.17->selenium) (2.20)\n",
      "Requirement already satisfied: wsproto>=0.14 in c:\\users\\smhrd\\anaconda3\\lib\\site-packages (from trio-websocket~=0.9->selenium) (1.0.0)\n",
      "Requirement already satisfied: pyOpenSSL>=0.14 in c:\\users\\smhrd\\anaconda3\\lib\\site-packages (from urllib3[secure]~=1.26->selenium) (21.0.0)\n",
      "Requirement already satisfied: cryptography>=1.3.4 in c:\\users\\smhrd\\anaconda3\\lib\\site-packages (from urllib3[secure]~=1.26->selenium) (3.4.8)\n",
      "Requirement already satisfied: certifi in c:\\users\\smhrd\\anaconda3\\lib\\site-packages (from urllib3[secure]~=1.26->selenium) (2021.10.8)\n",
      "Requirement already satisfied: six>=1.5.2 in c:\\users\\smhrd\\anaconda3\\lib\\site-packages (from pyOpenSSL>=0.14->urllib3[secure]~=1.26->selenium) (1.16.0)\n",
      "Requirement already satisfied: h11<1,>=0.9.0 in c:\\users\\smhrd\\anaconda3\\lib\\site-packages (from wsproto>=0.14->trio-websocket~=0.9->selenium) (0.12.0)\n"
     ]
    }
   ],
   "source": [
    "# 기본으로 내장된 라이브러리가 아니기 때문에 반드시 한번 설치!\n",
    "!pip install selenium"
   ]
  },
  {
   "cell_type": "code",
   "execution_count": 64,
   "id": "afadbf7c",
   "metadata": {},
   "outputs": [],
   "source": [
    "# webdriver = 웹을 통제하기 위한 라이브러리 (크롬브라우저)\n",
    "# Keys = 키보드역할을 해주는 라이브러리\n",
    "from selenium import webdriver as wb\n",
    "from selenium.webdriver.common.keys import Keys"
   ]
  },
  {
   "cell_type": "code",
   "execution_count": 65,
   "id": "1c91dc41",
   "metadata": {},
   "outputs": [],
   "source": [
    "## wb.Chrome() = 크롬창을 실행하기 위한 명령\n",
    "## .get(\"URL\") = 원하는 페이지의 url주소 불러오기\n",
    "# 크롬드라이버 실행\n",
    "driver=wb.Chrome()\n",
    "# 드라이버~> 네이버 가져오기\n",
    "driver.get(\"http://www.naver.com\")"
   ]
  },
  {
   "cell_type": "code",
   "execution_count": 66,
   "id": "41fa0228",
   "metadata": {},
   "outputs": [
    {
     "name": "stderr",
     "output_type": "stream",
     "text": [
      "C:\\Users\\smhrd\\AppData\\Local\\Temp/ipykernel_12540/1014406821.py:2: DeprecationWarning: find_element_by_* commands are deprecated. Please use find_element() instead\n",
      "  search=driver.find_element_by_id(\"query\")\n"
     ]
    }
   ],
   "source": [
    "# 드라이버야 아이디가 ~인 요소를 찾아줘\n",
    "search=driver.find_element_by_id(\"query\")"
   ]
  },
  {
   "cell_type": "code",
   "execution_count": 67,
   "id": "b1fd16e2",
   "metadata": {},
   "outputs": [],
   "source": [
    "# 검색창에 코로나 값을 보내줘\n",
    "search.send_keys(\"코로나\")"
   ]
  },
  {
   "cell_type": "markdown",
   "id": "05032007",
   "metadata": {},
   "source": [
    "### 검색진행하기\n",
    "1. 엔터를 입력해서 검색"
   ]
  },
  {
   "cell_type": "code",
   "execution_count": 68,
   "id": "774f9b5d",
   "metadata": {},
   "outputs": [],
   "source": [
    "search.send_keys(Keys.ENTER)"
   ]
  },
  {
   "cell_type": "code",
   "execution_count": 69,
   "id": "9479537c",
   "metadata": {},
   "outputs": [],
   "source": [
    "#뒤로가라는 명령(브라우저 driver.back())\n",
    "driver.back()"
   ]
  },
  {
   "cell_type": "code",
   "execution_count": 70,
   "id": "ff5269a4",
   "metadata": {},
   "outputs": [
    {
     "name": "stderr",
     "output_type": "stream",
     "text": [
      "C:\\Users\\smhrd\\AppData\\Local\\Temp/ipykernel_12540/3370933594.py:2: DeprecationWarning: find_element_by_* commands are deprecated. Please use find_element() instead\n",
      "  btn=driver.find_element_by_id(\"search_btn\")\n"
     ]
    }
   ],
   "source": [
    "# 검색버튼 클릭\n",
    "btn=driver.find_element_by_id(\"search_btn\")"
   ]
  },
  {
   "cell_type": "code",
   "execution_count": 71,
   "id": "0ee05f58",
   "metadata": {},
   "outputs": [],
   "source": [
    "btn.click()"
   ]
  },
  {
   "cell_type": "code",
   "execution_count": 72,
   "id": "c7ade4a9",
   "metadata": {},
   "outputs": [],
   "source": [
    "# 창 종료\n",
    "driver.quit()"
   ]
  },
  {
   "cell_type": "markdown",
   "id": "cbd69abd",
   "metadata": {},
   "source": [
    "### 한솥도시락 사이트  메뉴명, 가격명 수집"
   ]
  },
  {
   "cell_type": "code",
   "execution_count": 73,
   "id": "6b76fb70",
   "metadata": {},
   "outputs": [],
   "source": [
    "# 1. 브라우저를 실행\n",
    "# 2. 한솥도시락 URL 이동\n",
    "driver=wb.Chrome()\n",
    "driver.get(\"https://www.hsd.co.kr/menu/menu_list\")"
   ]
  },
  {
   "cell_type": "code",
   "execution_count": 74,
   "id": "ae9deb21",
   "metadata": {},
   "outputs": [
    {
     "name": "stderr",
     "output_type": "stream",
     "text": [
      "C:\\Users\\smhrd\\AppData\\Local\\Temp/ipykernel_12540/2202041908.py:1: DeprecationWarning: find_elements_by_* commands are deprecated. Please use find_elements() instead\n",
      "  title=driver.find_elements_by_css_selector(\"h4.h.fz_03\")\n"
     ]
    }
   ],
   "source": [
    "title=driver.find_elements_by_css_selector(\"h4.h.fz_03\")"
   ]
  },
  {
   "cell_type": "code",
   "execution_count": 75,
   "id": "63b63f7e",
   "metadata": {
    "scrolled": true
   },
   "outputs": [
    {
     "name": "stdout",
     "output_type": "stream",
     "text": [
      "행사 숯불직화구이 덮밥\n",
      "행사 제육 김치 부대찌개 정식\n",
      "행사 빅치킨마요 김치 부대찌개 정식\n",
      "행사 돈까스도련님 고기고기\n",
      "행사 동백\n",
      "행사 새치 고기고기\n",
      "행사 진달래\n",
      "행사 스팸 김치볶음밥\n",
      "매화(치킨, 연어구이)\n",
      "매화(순살 고등어 간장구이)\n",
      "진달래\n",
      "개나리(순살 고등어 간장구이)\n",
      "돈까스도련님고기고기\n",
      "탕수육도련님고기고기\n",
      "새치 고기고기\n",
      "돈치 고기고기\n",
      "고기고기\n",
      "숯불직화구이\n",
      "소불고기\n",
      "메가치킨제육\n",
      "칠리 찹쌀탕수육도련님\n",
      "동백\n",
      "치킨제육\n",
      "돈까스도련님\n",
      "제육볶음\n",
      "돈치스팸 도시락\n",
      "제육 김치찌개 정식\n",
      "제육 김치 부대찌개 정식\n",
      "돈치스팸 김치 부대찌개 정식\n",
      "빅치킨마요 김치 부대찌개 정식\n",
      "치킨마요 김치 부대찌개 정식\n",
      "돈치스팸 김치찌개 정식\n",
      "빅치킨마요 김치찌개 정식\n",
      "치킨마요 김치찌개 정식\n",
      "메가스팸마요\n",
      "스팸마요\n",
      "메가치킨마요\n",
      "왕치킨마요\n",
      "빅치킨마요\n",
      "치킨마요\n",
      "참치마요\n",
      "돈치마요\n",
      "치즈 카레도시락\n",
      "돈까스 카레\n",
      "3종치즈 김치볶음밥\n",
      "스팸 김치볶음밥\n",
      "김치볶음밥\n",
      "스팸철판볶음밥\n",
      "소불고기 철판볶음밥\n",
      "소고기 육개장\n",
      "묵은지 김치찌개\n",
      "김치 부대찌개\n",
      "반찬 김치 부대찌개\n",
      "숯불직화구이 덮밥\n",
      "마파두부 덮밥\n",
      "왕카레돈까스덮밥\n",
      "새우돈까스 덮밥\n",
      "돈까스 덮밥\n",
      "소불고기 감초고추장 비빔밥\n",
      "시골제육 두부강된장 비빔밥\n",
      "참치야채 감초고추장\n",
      "두부강정 야채비빔밥\n",
      "열무 두부강된장 비빔밥\n",
      "튼튼도시락\n"
     ]
    }
   ],
   "source": [
    "for i in title:\n",
    "    print(i.text)"
   ]
  },
  {
   "cell_type": "code",
   "execution_count": 76,
   "id": "f5418200",
   "metadata": {},
   "outputs": [
    {
     "name": "stderr",
     "output_type": "stream",
     "text": [
      "C:\\Users\\smhrd\\AppData\\Local\\Temp/ipykernel_12540/4145350405.py:1: DeprecationWarning: find_elements_by_* commands are deprecated. Please use find_elements() instead\n",
      "  price=driver.find_elements_by_css_selector(\"div.item-price>strong\")\n"
     ]
    }
   ],
   "source": [
    "price=driver.find_elements_by_css_selector(\"div.item-price>strong\")"
   ]
  },
  {
   "cell_type": "code",
   "execution_count": 77,
   "id": "2eef3ed7",
   "metadata": {},
   "outputs": [
    {
     "name": "stdout",
     "output_type": "stream",
     "text": [
      "4,900\n",
      "7,200\n",
      "6,300\n",
      "4,900\n",
      "4,600\n",
      "5,200\n",
      "5,900\n",
      "3,900\n",
      "10,000\n",
      "10,000\n",
      "7,000\n",
      "8,000\n",
      "5,800\n",
      "5,800\n",
      "6,200\n",
      "5,400\n",
      "4,200\n",
      "6,500\n",
      "5,000\n",
      "7,000\n",
      "4,200\n",
      "5,500\n",
      "4,500\n",
      "4,200\n",
      "4,100\n",
      "4,700\n",
      "8,200\n",
      "8,500\n",
      "8,500\n",
      "7,400\n",
      "6,800\n",
      "8,200\n",
      "7,000\n",
      "6,400\n",
      "5,600\n",
      "3,600\n",
      "5,500\n",
      "4,500\n",
      "3,800\n",
      "3,200\n",
      "3,000\n",
      "3,600\n",
      "4,100\n",
      "4,200\n",
      "4,800\n",
      "4,700\n",
      "3,900\n",
      "4,500\n",
      "4,500\n",
      "4,700\n",
      "4,500\n",
      "5,800\n",
      "4,500\n",
      "5,900\n",
      "5,000\n",
      "5,700\n",
      "3,900\n",
      "3,800\n",
      "5,000\n",
      "5,000\n",
      "3,200\n",
      "4,800\n",
      "4,300\n",
      "5,000\n"
     ]
    }
   ],
   "source": [
    "for i in price:\n",
    "    print(i.text)"
   ]
  },
  {
   "cell_type": "code",
   "execution_count": 78,
   "id": "c6bbef82",
   "metadata": {},
   "outputs": [
    {
     "name": "stderr",
     "output_type": "stream",
     "text": [
      "C:\\Users\\smhrd\\AppData\\Local\\Temp/ipykernel_12540/1781660289.py:2: DeprecationWarning: find_element_by_* commands are deprecated. Please use find_element() instead\n",
      "  btn=driver.find_element_by_css_selector(\"a.c_05\")\n"
     ]
    }
   ],
   "source": [
    "# 더보기 버튼 클릭\n",
    "btn=driver.find_element_by_css_selector(\"a.c_05\")"
   ]
  },
  {
   "cell_type": "code",
   "execution_count": 79,
   "id": "d1add7b6",
   "metadata": {},
   "outputs": [],
   "source": [
    "btn.click()"
   ]
  },
  {
   "cell_type": "markdown",
   "id": "526c5e41",
   "metadata": {},
   "source": [
    "# 예외처리 try,except\n",
    "- try: 오류 나기전까지 실행할 로직\n",
    "- except : 오류가 났을때 실행할 로직"
   ]
  },
  {
   "cell_type": "code",
   "execution_count": 80,
   "id": "5d09cf1c",
   "metadata": {},
   "outputs": [],
   "source": [
    "# time라이브러리\n",
    "# 코드중간중간에 쉬는시간 부여\n",
    "import time"
   ]
  },
  {
   "cell_type": "code",
   "execution_count": 81,
   "id": "b2dd8df3",
   "metadata": {},
   "outputs": [
    {
     "name": "stdout",
     "output_type": "stream",
     "text": [
      "더보기가 끝났습니다.\n"
     ]
    }
   ],
   "source": [
    "try : \n",
    "    for i in range(10):\n",
    "        btn.click()\n",
    "        time.sleep(2)\n",
    "except : \n",
    "    print(\"더보기가 끝났습니다.\")"
   ]
  },
  {
   "cell_type": "code",
   "execution_count": 82,
   "id": "8b453bc6",
   "metadata": {},
   "outputs": [],
   "source": [
    "# 모든 메뉴명, 가격명\n",
    "# 데이터프레임 제작"
   ]
  },
  {
   "cell_type": "code",
   "execution_count": 83,
   "id": "edcb673b",
   "metadata": {},
   "outputs": [],
   "source": [
    "import pandas as pd"
   ]
  },
  {
   "cell_type": "code",
   "execution_count": 84,
   "id": "5c3377b9",
   "metadata": {},
   "outputs": [
    {
     "name": "stderr",
     "output_type": "stream",
     "text": [
      "C:\\Users\\smhrd\\AppData\\Local\\Temp/ipykernel_12540/2202041908.py:1: DeprecationWarning: find_elements_by_* commands are deprecated. Please use find_elements() instead\n",
      "  title=driver.find_elements_by_css_selector(\"h4.h.fz_03\")\n"
     ]
    }
   ],
   "source": [
    "title=driver.find_elements_by_css_selector(\"h4.h.fz_03\")"
   ]
  },
  {
   "cell_type": "code",
   "execution_count": 85,
   "id": "40bc3715",
   "metadata": {},
   "outputs": [
    {
     "name": "stderr",
     "output_type": "stream",
     "text": [
      "C:\\Users\\smhrd\\AppData\\Local\\Temp/ipykernel_12540/4145350405.py:1: DeprecationWarning: find_elements_by_* commands are deprecated. Please use find_elements() instead\n",
      "  price=driver.find_elements_by_css_selector(\"div.item-price>strong\")\n"
     ]
    }
   ],
   "source": [
    "price=driver.find_elements_by_css_selector(\"div.item-price>strong\")"
   ]
  },
  {
   "cell_type": "code",
   "execution_count": 87,
   "id": "b86ae5c4",
   "metadata": {},
   "outputs": [],
   "source": [
    "title_list=[]\n",
    "price_list=[]\n",
    "for i in range(len(title)):\n",
    "    title_list.append(title[i].text)\n",
    "    price_list.append(price[i].text)\n"
   ]
  },
  {
   "cell_type": "code",
   "execution_count": 93,
   "id": "3268ea26",
   "metadata": {},
   "outputs": [],
   "source": [
    "dic={'메뉴':title_list, '가격':price_list}\n",
    "food=pd.DataFrame(dic)"
   ]
  },
  {
   "cell_type": "code",
   "execution_count": 95,
   "id": "571d5220",
   "metadata": {},
   "outputs": [],
   "source": [
    "# 한글 인코딩하는법\n",
    "# 1. euc-kr\n",
    "# 2. \"\"\n",
    "# 3. utf-8-sig\n",
    "food.to_csv(\"한솥.csv\",encoding=\"euc-kr\")"
   ]
  },
  {
   "cell_type": "code",
   "execution_count": 96,
   "id": "4d2bc74c",
   "metadata": {},
   "outputs": [],
   "source": [
    "food.to_html(\"한솥.html\")"
   ]
  },
  {
   "cell_type": "code",
   "execution_count": null,
   "id": "110859bc",
   "metadata": {},
   "outputs": [],
   "source": []
  },
  {
   "cell_type": "code",
   "execution_count": null,
   "id": "5f59926a",
   "metadata": {},
   "outputs": [],
   "source": []
  }
 ],
 "metadata": {
  "kernelspec": {
   "display_name": "Python 3 (ipykernel)",
   "language": "python",
   "name": "python3"
  },
  "language_info": {
   "codemirror_mode": {
    "name": "ipython",
    "version": 3
   },
   "file_extension": ".py",
   "mimetype": "text/x-python",
   "name": "python",
   "nbconvert_exporter": "python",
   "pygments_lexer": "ipython3",
   "version": "3.9.7"
  }
 },
 "nbformat": 4,
 "nbformat_minor": 5
}
